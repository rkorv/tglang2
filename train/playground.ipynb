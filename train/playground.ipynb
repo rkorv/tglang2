{
 "cells": [
  {
   "cell_type": "code",
   "execution_count": 1,
   "metadata": {},
   "outputs": [],
   "source": [
    "import pickle\n",
    "import numpy as np\n",
    "\n",
    "from utils.lang_enum import languages\n",
    "\n",
    "DF_CACHE_PATH = \"../../datasets/cache/all.pickle\"\n",
    "DF_PATHONLY_CACHE_PATH = \"../../datasets/cache/path_only.pickle\""
   ]
  },
  {
   "cell_type": "markdown",
   "metadata": {},
   "source": [
    "# Validate"
   ]
  },
  {
   "cell_type": "code",
   "execution_count": 1,
   "metadata": {},
   "outputs": [
    {
     "name": "stderr",
     "output_type": "stream",
     "text": [
      "Global seed set to 9\n",
      "/home/smr/anaconda3/envs/optiver/lib/python3.10/site-packages/pytorch_lightning/core/saving.py:165: UserWarning: Found keys that are not in the model state dict but in the checkpoint: ['ce_loss.weight']\n",
      "  rank_zero_warn(\n"
     ]
    }
   ],
   "source": [
    "import train as mt\n",
    "\n",
    "MODEL_RESUME = \"./logs/l_2023-11-19_10-55-23_bs=1024_epochs=130/epoch=59-step=147960.ckpt\"\n",
    "model = mt.LanguageClassifier.load_from_checkpoint(MODEL_RESUME, strict=False).model.cpu().eval()\n",
    "# model = mt.LanguageClassifier().cpu().eval()"
   ]
  },
  {
   "cell_type": "code",
   "execution_count": 2,
   "metadata": {},
   "outputs": [
    {
     "ename": "NameError",
     "evalue": "name 'DF_PATHONLY_CACHE_PATH' is not defined",
     "output_type": "error",
     "traceback": [
      "\u001b[0;31m---------------------------------------------------------------------------\u001b[0m",
      "\u001b[0;31mNameError\u001b[0m                                 Traceback (most recent call last)",
      "\u001b[1;32m/home/smr/workspace/comp/tg/playground/train/playground.ipynb Cell 4\u001b[0m line \u001b[0;36m2\n\u001b[1;32m      <a href='vscode-notebook-cell://ssh-remote%2B10.8.0.4/home/smr/workspace/comp/tg/playground/train/playground.ipynb#W3sdnNjb2RlLXJlbW90ZQ%3D%3D?line=0'>1</a>\u001b[0m \u001b[39mimport\u001b[39;00m \u001b[39mpickle\u001b[39;00m\n\u001b[0;32m----> <a href='vscode-notebook-cell://ssh-remote%2B10.8.0.4/home/smr/workspace/comp/tg/playground/train/playground.ipynb#W3sdnNjb2RlLXJlbW90ZQ%3D%3D?line=1'>2</a>\u001b[0m df \u001b[39m=\u001b[39m pickle\u001b[39m.\u001b[39mload(\u001b[39mopen\u001b[39m(DF_PATHONLY_CACHE_PATH, \u001b[39m\"\u001b[39m\u001b[39mrb\u001b[39m\u001b[39m\"\u001b[39m))\n\u001b[1;32m      <a href='vscode-notebook-cell://ssh-remote%2B10.8.0.4/home/smr/workspace/comp/tg/playground/train/playground.ipynb#W3sdnNjb2RlLXJlbW90ZQ%3D%3D?line=3'>4</a>\u001b[0m \u001b[39mdef\u001b[39;00m \u001b[39mload_file\u001b[39m(filepath):\n\u001b[1;32m      <a href='vscode-notebook-cell://ssh-remote%2B10.8.0.4/home/smr/workspace/comp/tg/playground/train/playground.ipynb#W3sdnNjb2RlLXJlbW90ZQ%3D%3D?line=4'>5</a>\u001b[0m     \u001b[39mwith\u001b[39;00m \u001b[39mopen\u001b[39m(filepath, \u001b[39m\"\u001b[39m\u001b[39mr\u001b[39m\u001b[39m\"\u001b[39m) \u001b[39mas\u001b[39;00m f:\n",
      "\u001b[0;31mNameError\u001b[0m: name 'DF_PATHONLY_CACHE_PATH' is not defined"
     ]
    }
   ],
   "source": [
    "import pickle\n",
    "df = pickle.load(open(DF_PATHONLY_CACHE_PATH, \"rb\"))\n",
    "\n",
    "def load_file(filepath):\n",
    "    with open(filepath, \"r\") as f:\n",
    "        return f.read()\n",
    "\n",
    "test_df = df[df.source.isin(mt.TEST_SOURCES)]"
   ]
  },
  {
   "cell_type": "code",
   "execution_count": null,
   "metadata": {},
   "outputs": [
    {
     "name": "stdout",
     "output_type": "stream",
     "text": [
      "gt: TGLANG_LANGUAGE_NGINX [llama_tasks]\n",
      "TGLANG_LANGUAGE_NGINX: 0.97\n",
      "TGLANG_LANGUAGE_OTHER: 0.02\n",
      "IS_OTHER: 0.01\n",
      "----------ORIGINAL TEXT----------\n",
      "  image {\n",
      "    // Use a CDN for images\n",
      "    proxy_pass http://images.example.com;\n",
      "    // Use a specific cache control for images\n",
      "    add_header Cache-Control \"public, max-age=31536000\";\n",
      "    // Serve the image from the CDN if it exists\n",
      "    if (file_exists ($document_root / $request_filename)) {\n",
      "      root $document_root;\n",
      "    } else {\n",
      "      error 404 /404.html;\n",
      "    }\n",
      "  }\n",
      "----------DECODED TOKENS----------\n",
      "image {\n",
      "  // use a cdn for images\n",
      "  proxy_pass http://images.example.com;\n",
      "  // use a specific cache control for images\n",
      "  add_header cache-control \"public, max-age=31536000\";\n",
      "  // serve the image from the cdn if it exists\n",
      "  if (file_exists ($document_root / $request_filename)) {\n",
      "    root $document_root;\n",
      "  } else {\n",
      "    error 404 /404.html;\n",
      "  }\n",
      "}\n"
     ]
    }
   ],
   "source": [
    "from typing import List\n",
    "from utils import vocab\n",
    "\n",
    "import random\n",
    "import torch\n",
    "from utils import helper, preprocess, lang_enum\n",
    "\n",
    "tdf = test_df\n",
    "lang = random.choice(tdf.language_tag.unique().tolist())\n",
    "sample = tdf[(tdf.language_tag == lang)].sample()\n",
    "text = helper.augment(load_file(sample.path.iloc[0]), lines_num_range=(5, 50))\n",
    "source = sample.source.iloc[0]\n",
    "# text = \"\"\"\n",
    "# \"\"\"\n",
    "\n",
    "data = preprocess.encode_text(text.lower()[:vocab.max_size])\n",
    "data = [torch.tensor(c).unsqueeze(0).long() for c in data]\n",
    "encoded_text, naming_types, group_types, line_numbers, positions = data\n",
    "\n",
    "lang_logits, other_logits, _, _ = model(encoded_text, naming_types, group_types, line_numbers, positions)\n",
    "lang_logits = lang_logits.softmax(1)\n",
    "is_other_prob = other_logits.softmax(1)[:, 0]\n",
    "\n",
    "print(f\"gt: {lang} [{source}]\")\n",
    "top = 2\n",
    "t5 = lang_logits.topk(top)\n",
    "for i in range(top):\n",
    "    print(f\"{lang_enum.languages[t5.indices[0][i].item()]}: {t5.values[0][i].item():.2f}\")\n",
    "print(f\"IS_OTHER: {is_other_prob.item():.2f}\")\n",
    "print(\"-\"*10 + \"ORIGINAL TEXT\" + \"-\"*10)\n",
    "print(text)\n",
    "print(\"-\"*10 + \"DECODED TOKENS\" + \"-\"*10)\n",
    "print(preprocess.decode_text(encoded_text.tolist()[0]))"
   ]
  },
  {
   "cell_type": "markdown",
   "metadata": {},
   "source": [
    "# Run full ds"
   ]
  },
  {
   "cell_type": "code",
   "execution_count": 4,
   "metadata": {},
   "outputs": [
    {
     "name": "stderr",
     "output_type": "stream",
     "text": [
      "/home/smr/anaconda3/envs/optiver/lib/python3.10/site-packages/pytorch_lightning/core/saving.py:165: UserWarning: Found keys that are not in the model state dict but in the checkpoint: ['ce_loss.weight']\n",
      "  rank_zero_warn(\n",
      "/home/smr/workspace/comp/tg/playground/train/utils/dataset.py:11: SettingWithCopyWarning: \n",
      "A value is trying to be set on a copy of a slice from a DataFrame.\n",
      "Try using .loc[row_indexer,col_indexer] = value instead\n",
      "\n",
      "See the caveats in the documentation: https://pandas.pydata.org/pandas-docs/stable/user_guide/indexing.html#returning-a-view-versus-a-copy\n",
      "  df[\"language_id\"] = df[\"language_tag\"].map(lang_enum.languages2num)\n"
     ]
    }
   ],
   "source": [
    "from utils import lang_enum\n",
    "from utils.dataset import CodeDataset\n",
    "import train as mt\n",
    "\n",
    "DF_PATHONLY_CACHE_PATH = \"../../datasets/cache/path_only.pickle\"\n",
    "MODEL_RESUME = \"./logs/l_2023-11-20_07-48-39_bs=1024_epochs=130/epoch=82-step=176319.ckpt\"\n",
    "# MODEL_RESUME = \"./logs/l_2023-11-19_10-55-23_bs=1024_epochs=130/epoch=98-step=190503.ckpt\"\n",
    "model = mt.LanguageClassifier.load_from_checkpoint(MODEL_RESUME, strict=False).cuda().eval()\n",
    "# model = mt.LanguageClassifier().cpu().eval()\n",
    "\n",
    "import pickle\n",
    "df = pickle.load(open(DF_PATHONLY_CACHE_PATH, \"rb\"))\n",
    "df[\"language_id\"] = df[\"language_tag\"].map(lang_enum.languages2num)\n",
    "\n",
    "def load_file(filepath):\n",
    "    with open(filepath, \"r\") as f:\n",
    "        return f.read()\n",
    "\n",
    "test_df = df[df.source.isin(mt.TEST_SOURCES)]\n",
    "\n",
    "from torch.utils.data import DataLoader, Dataset\n",
    "\n",
    "dataset = CodeDataset(test_df, aug=False)\n",
    "test_loader = DataLoader(dataset, batch_size=128, shuffle=False, num_workers=32, collate_fn=mt.CodeDataset.collate_fn)"
   ]
  },
  {
   "cell_type": "code",
   "execution_count": 5,
   "metadata": {},
   "outputs": [
    {
     "data": {
      "application/vnd.jupyter.widget-view+json": {
       "model_id": "91401c73681e463583caa64b9d85e4f3",
       "version_major": 2,
       "version_minor": 0
      },
      "text/plain": [
       "  0%|          | 0/820 [00:00<?, ?it/s]"
      ]
     },
     "metadata": {},
     "output_type": "display_data"
    },
    {
     "name": "stderr",
     "output_type": "stream",
     "text": [
      "/tmp/ipykernel_3451222/1636351740.py:21: SettingWithCopyWarning: \n",
      "A value is trying to be set on a copy of a slice from a DataFrame.\n",
      "Try using .loc[row_indexer,col_indexer] = value instead\n",
      "\n",
      "See the caveats in the documentation: https://pandas.pydata.org/pandas-docs/stable/user_guide/indexing.html#returning-a-view-versus-a-copy\n",
      "  test_df.loc[:, \"pred\"] = all_preds\n",
      "/tmp/ipykernel_3451222/1636351740.py:22: SettingWithCopyWarning: \n",
      "A value is trying to be set on a copy of a slice from a DataFrame.\n",
      "Try using .loc[row_indexer,col_indexer] = value instead\n",
      "\n",
      "See the caveats in the documentation: https://pandas.pydata.org/pandas-docs/stable/user_guide/indexing.html#returning-a-view-versus-a-copy\n",
      "  test_df.loc[:, \"prob\"] = all_probs\n",
      "/tmp/ipykernel_3451222/1636351740.py:23: SettingWithCopyWarning: \n",
      "A value is trying to be set on a copy of a slice from a DataFrame.\n",
      "Try using .loc[row_indexer,col_indexer] = value instead\n",
      "\n",
      "See the caveats in the documentation: https://pandas.pydata.org/pandas-docs/stable/user_guide/indexing.html#returning-a-view-versus-a-copy\n",
      "  test_df.loc[:, \"is_other_prob\"] = all_is_other_probs\n"
     ]
    }
   ],
   "source": [
    "import tqdm.autonotebook as tqdm\n",
    "\n",
    "all_preds = []\n",
    "all_probs = []\n",
    "all_is_other_probs = []\n",
    "\n",
    "for batch in tqdm.tqdm(test_loader):\n",
    "    inputs, naming_types, group_types, lines_num, positions, _, attention_masks = batch\n",
    "    y_hat, is_other, _, _ = model(inputs.cuda(), naming_types.cuda(), group_types.cuda(),\n",
    "                                  lines_num.cuda(), positions.cuda(), attention_masks.cuda())\n",
    "\n",
    "    probs = y_hat.softmax(dim=1)\n",
    "    pred_labels = probs.argmax(dim=1)\n",
    "    is_other_probs = is_other.softmax(dim=1)[:, 0]\n",
    "\n",
    "    for p, l, o in zip(probs, pred_labels, is_other_probs):\n",
    "        all_preds.append(l.item())\n",
    "        all_probs.append(p[l].item())\n",
    "        all_is_other_probs.append(o.item())\n",
    "\n",
    "test_df.loc[:, \"pred\"] = all_preds\n",
    "test_df.loc[:, \"prob\"] = all_probs\n",
    "test_df.loc[:, \"is_other_prob\"] = all_is_other_probs\n",
    "\n",
    "import gc\n",
    "_ = gc.collect()"
   ]
  },
  {
   "cell_type": "markdown",
   "metadata": {},
   "source": [
    "### Visualise accuracy"
   ]
  },
  {
   "cell_type": "code",
   "execution_count": 6,
   "metadata": {},
   "outputs": [
    {
     "name": "stdout",
     "output_type": "stream",
     "text": [
      "prob_threshold: 0.48\n",
      "avg_accuracy   0.941593\n",
      "--------------------\n",
      "source\n",
      "cpp_test       0.971200\n",
      "llama_tasks    0.880639\n",
      "rosetta        0.934375\n",
      "tgdataset      0.959012\n",
      "tgdataset2     0.960237\n",
      "--------------------\n"
     ]
    },
    {
     "data": {
      "image/png": "[encoded data removed]",
      "text/plain": [
       "<Figure size 700x300 with 1 Axes>"
      ]
     },
     "metadata": {},
     "output_type": "display_data"
    },
    {
     "data": {
      "image/png": "[encoded data removed]",
      "text/plain": [
       "<Figure size 700x300 with 1 Axes>"
      ]
     },
     "metadata": {},
     "output_type": "display_data"
    },
    {
     "data": {
      "image/png": "[encoded data removed]",
      "text/plain": [
       "<Figure size 700x300 with 1 Axes>"
      ]
     },
     "metadata": {},
     "output_type": "display_data"
    },
    {
     "data": {
      "image/png": "[encoded data removed]",
      "text/plain": [
       "<Figure size 700x300 with 1 Axes>"
      ]
     },
     "metadata": {},
     "output_type": "display_data"
    },
    {
     "data": {
      "image/png": "[encoded data removed]",
      "text/plain": [
       "<Figure size 700x300 with 1 Axes>"
      ]
     },
     "metadata": {},
     "output_type": "display_data"
    },
    {
     "data": {
      "image/png": "[encoded data removed]",
      "text/plain": [
       "<Figure size 700x300 with 1 Axes>"
      ]
     },
     "metadata": {},
     "output_type": "display_data"
    }
   ],
   "source": [
    "import numpy as np\n",
    "import seaborn as sns\n",
    "import matplotlib.pyplot as plt\n",
    "\n",
    "def find_optimal_thresholds(tdf):\n",
    "    best_threshold_1 = None\n",
    "    best_accuracy = 0\n",
    "\n",
    "    for threshold_1 in np.arange(0.1, 0.9, 0.01):\n",
    "        ttdf = tdf.copy()\n",
    "        ttdf.loc[ttdf['prob'] < threshold_1, 'pred'] = 0\n",
    "        # ttdf.loc[ttdf['is_other_prob'] > threshold_2, 'pred'] = 0\n",
    "\n",
    "        avg_accuracy = (ttdf['language_id'] == ttdf['pred']).mean()\n",
    "\n",
    "        if avg_accuracy > best_accuracy:\n",
    "            best_accuracy = avg_accuracy\n",
    "            best_threshold_1 = threshold_1\n",
    "\n",
    "    return best_threshold_1\n",
    "\n",
    "\n",
    "tdf = test_df.copy()\n",
    "tdf.loc[(tdf.source == \"tgdataset\") & (tdf[\"pred\"]>1), \"pred\"] = 1\n",
    "tdf.loc[(tdf.source == \"tgdataset2\") & (tdf[\"pred\"]>1), \"pred\"] = 1\n",
    "t1 = find_optimal_thresholds(tdf)\n",
    "print(f\"prob_threshold: {t1:.2f}\")\n",
    "tdf.loc[tdf[\"prob\"]<t1, \"pred\"] = 0\n",
    "# tdf.loc[tdf[\"is_other_prob\"]>t2, \"pred\"] = 0\n",
    "# tdf.loc[(tdf[\"prob\"] + (1-tdf[\"is_other_prob\"])) / 2 < 0.2, \"pred\"] = 0\n",
    "\n",
    "avg_accuracy = (tdf.language_id == tdf.pred).mean()\n",
    "print(f\"avg_accuracy   {avg_accuracy:.6f}\")\n",
    "print(\"--------------------\")\n",
    "\n",
    "per_source_accuracy = tdf[tdf.language_id == tdf.pred].groupby(\"source\").size() / tdf.groupby(\"source\").size()\n",
    "print(per_source_accuracy.to_string())\n",
    "print(\"--------------------\")\n",
    "\n",
    "def plot_per_class(tdf, source_name=\"\"):\n",
    "    per_class_accuracy = tdf[tdf.language_id == tdf.pred].groupby(\"language_tag\").size() / tdf.groupby(\"language_tag\").size()\n",
    "    per_class_accuracy = per_class_accuracy.sort_values(ascending=True)\n",
    "\n",
    "    labels = [v[16:] for v in per_class_accuracy.index.tolist()]\n",
    "    plt.figure(figsize=(7, 3))\n",
    "    ax = sns.barplot(x=labels, y=per_class_accuracy.values)\n",
    "    ax.set_title(f'Accuracy per class [{source_name}]', fontsize=7)\n",
    "    plt.xticks(rotation=45, ha='right', fontsize=6)\n",
    "    plt.yticks(fontsize=6)\n",
    "    sns.despine()\n",
    "    for p in ax.patches:\n",
    "        ax.annotate(f'{p.get_height():.2f}', (p.get_x() + p.get_width() / 2., p.get_height()),\n",
    "                    ha='center', va='center', xytext=(0, 10), textcoords='offset points', fontsize=6)\n",
    "\n",
    "    plt.tight_layout()\n",
    "    plt.show()\n",
    "\n",
    "plot_per_class(tdf, \"all\")\n",
    "for source in mt.TEST_SOURCES:\n",
    "    plot_per_class(tdf[tdf.source == source], source)\n",
    "\n",
    "# avg_accuracy   0.942146\n",
    "# --------------------\n",
    "# source\n",
    "# cpp_test       0.974400\n",
    "# llama_tasks    0.885695\n",
    "# rosetta        0.935960\n",
    "# tgdataset      0.957356\n",
    "# tgdataset2     0.959035\n",
    "# --------------------"
   ]
  },
  {
   "cell_type": "markdown",
   "metadata": {},
   "source": [
    "### Find worst"
   ]
  },
  {
   "cell_type": "code",
   "execution_count": 38,
   "metadata": {},
   "outputs": [
    {
     "data": {
      "application/vnd.jupyter.widget-view+json": {
       "model_id": "819df20812cb438980e934b0490e7994",
       "version_major": 2,
       "version_minor": 0
      },
      "text/plain": [
       "Label(value='llama_tasks: SQL | pred: OTHER [0.60]')"
      ]
     },
     "metadata": {},
     "output_type": "display_data"
    },
    {
     "data": {
      "application/vnd.jupyter.widget-view+json": {
       "model_id": "60098089b2e14f998e77bb3f952a7533",
       "version_major": 2,
       "version_minor": 0
      },
      "text/plain": [
       "Textarea(value=\"SELECT * FROM tables (\\n   -- Use a nested SELECT statement within a subquery\\n    SELECT * FR…"
      ]
     },
     "metadata": {},
     "output_type": "display_data"
    },
    {
     "data": {
      "application/vnd.jupyter.widget-view+json": {
       "model_id": "3c22dd3c54ff4ce7a41e58d6f32b469c",
       "version_major": 2,
       "version_minor": 0
      },
      "text/plain": [
       "HBox(children=(Button(description='Previous File', style=ButtonStyle()), Button(button_style='danger', descrip…"
      ]
     },
     "metadata": {},
     "output_type": "display_data"
    }
   ],
   "source": [
    "import ipywidgets as widgets\n",
    "from IPython.display import display\n",
    "from IPython.display import clear_output\n",
    "from ipywidgets import Layout\n",
    "\n",
    "# wdf = test_df[test_df.pred != test_df.language_id]\n",
    "wdf = tdf[tdf.pred != tdf.language_id]\n",
    "wdf = wdf.sample(frac=1)\n",
    "\n",
    "# subset\n",
    "# wdf = wdf[wdf.source == \"cpp_test\"]\n",
    "wdf = wdf[wdf.source == \"llama_tasks\"]\n",
    "# wdf = wdf[wdf.source == \"tgdataset2\"]\n",
    "# wdf = wdf[wdf.source == \"rosetta\"]\n",
    "# wdf = wdf[wdf.source == \"tgdataset\"]\n",
    "# wdf = wdf[wdf.language_tag == \"TGLANG_LANGUAGE_RUBY\"]\n",
    "# wdf = wdf[wdf.language_tag == \"TGLANG_LANGUAGE_JAVASCRIPT\"]\n",
    "wdf = wdf[wdf.language_tag == \"TGLANG_LANGUAGE_SQL\"]\n",
    "\n",
    "\n",
    "file_counter = 0\n",
    "excluded_paths = []\n",
    "\n",
    "file_content = widgets.Textarea(value='', placeholder='File content will be shown here', description='', disabled=True, layout=widgets.Layout(width='100%', height='300px'))\n",
    "\n",
    "info_label = widgets.Label(value=\"Select a file to view details\")\n",
    "\n",
    "def update_display():\n",
    "    global file_counter\n",
    "    if file_counter >= len(wdf):\n",
    "        file_counter = 0\n",
    "    elif file_counter < 0:\n",
    "        file_counter = len(wdf) - 1\n",
    "\n",
    "    row = wdf.iloc[file_counter]\n",
    "    path, gt, pred, prob = row['path'], row['language_id'], row['pred'], row['prob']\n",
    "    source = row['source']\n",
    "    content = load_file(path)\n",
    "    file_content.value = content\n",
    "    info_label.value = f\"{source}: {lang_enum.languages[gt][16:]} | pred: {lang_enum.languages[pred][16:]} [{prob:.2f}]\"\n",
    "\n",
    "def mark_wrong(b=None):\n",
    "    global file_counter\n",
    "    path = wdf.iloc[file_counter]['path']\n",
    "    excluded_paths.append(path)\n",
    "    file_counter += 1\n",
    "    update_display()\n",
    "\n",
    "def next_file(b=None):\n",
    "    global file_counter\n",
    "    file_counter += 1\n",
    "    update_display()\n",
    "\n",
    "def prev_file(b=None):\n",
    "    global file_counter\n",
    "    file_counter -= 1\n",
    "    update_display()\n",
    "\n",
    "mark_wrong_button = widgets.Button(description='Mark Wrong', button_style='danger')\n",
    "mark_wrong_button.on_click(mark_wrong)\n",
    "\n",
    "next_button = widgets.Button(description='Next File')\n",
    "next_button.on_click(next_file)\n",
    "\n",
    "prev_button = widgets.Button(description='Previous File')\n",
    "prev_button.on_click(prev_file)\n",
    "\n",
    "update_display()\n",
    "\n",
    "display(info_label, file_content, widgets.HBox([prev_button, mark_wrong_button, next_button]))"
   ]
  },
  {
   "cell_type": "code",
   "execution_count": 10,
   "metadata": {},
   "outputs": [
    {
     "data": {
      "text/plain": [
       "(130, 96)"
      ]
     },
     "execution_count": 10,
     "metadata": {},
     "output_type": "execute_result"
    }
   ],
   "source": [
    "len(excluded_paths), len(list(set(excluded_paths)))"
   ]
  },
  {
   "cell_type": "code",
   "execution_count": 34,
   "metadata": {},
   "outputs": [],
   "source": [
    "update_path = \"../../datasets/excluded_paths.txt\"\n",
    "with open(update_path, \"w+\") as f:\n",
    "    f.write(\"\\n\".join(excluded_paths))"
   ]
  },
  {
   "cell_type": "code",
   "execution_count": null,
   "metadata": {},
   "outputs": [],
   "source": []
  },
  {
   "cell_type": "code",
   "execution_count": null,
   "metadata": {},
   "outputs": [],
   "source": []
  },
  {
   "cell_type": "code",
   "execution_count": null,
   "metadata": {},
   "outputs": [],
   "source": []
  },
  {
   "cell_type": "code",
   "execution_count": null,
   "metadata": {},
   "outputs": [],
   "source": []
  },
  {
   "cell_type": "code",
   "execution_count": null,
   "metadata": {},
   "outputs": [],
   "source": []
  },
  {
   "cell_type": "markdown",
   "metadata": {},
   "source": [
    "# Export"
   ]
  },
  {
   "cell_type": "code",
   "execution_count": 1,
   "metadata": {},
   "outputs": [],
   "source": [
    "# GENERATE MODEL_META.HPP\n",
    "\n",
    "from utils import vocab\n",
    "\n",
    "def escape_string(s):\n",
    "    return s.replace('\\\\', '\\\\\\\\').replace('\\n', '\\\\n').replace('\\t', '\\\\t').replace('\"', r'\\\"')\n",
    "\n",
    "prob_threshold = 0.48\n",
    "# is_code_threshold = 0.15\n",
    "\n",
    "def generate_cpp_header(strings):\n",
    "    header_content = \"#pragma once\\n\\n\"\n",
    "    header_content += \"#include <vector>\\n\"\n",
    "    header_content += \"#include <unordered_map>\\n\"\n",
    "    header_content += \"#include <string>\\n\\n\"\n",
    "\n",
    "    max_len = max([len(s) for s in strings])\n",
    "    header_content += \"const int MODEL_MAX_INPUT = \" + str(vocab.max_size) + \";\\n\"\n",
    "    header_content += \"const int MODEL_MAX_LINES_NUM = \" + str(vocab.max_lines_num) + \";\\n\"\n",
    "    header_content += f\"const float DETECTION_THRESHOLD = {prob_threshold};\\n\"\n",
    "    header_content += \"const int VOCAB_NEW_LINE_ID = \" + str(vocab.vocab_dict[\"\\n\"]) + \";\\n\"\n",
    "    header_content += \"const int VOCAB_UNK_ID = \" + str(len(vocab.vocab_list) - 1) + \";\\n\"\n",
    "    header_content += \"const int VOCAB_PAD_ID = \" + str(len(vocab.vocab_list) - 2) + \";\\n\"\n",
    "    header_content += \"const int VOCAB_MAX_LEN = \" + str(max_len) + \";\\n\\n\"\n",
    "    header_content += \"using det_int_t = int64_t;\\n\\n\"\n",
    "\n",
    "    header_content += \"const std::vector<std::string> vocab_list = {\\n\"\n",
    "    for s in strings:\n",
    "        header_content += '    \"' + escape_string(s) + '\",\\n'\n",
    "    header_content += \"};\\n\\n\"\n",
    "\n",
    "    vocab_map = {s: i for i, s in enumerate(strings)}\n",
    "    header_content += \"const std::unordered_map<std::string, det_int_t> vocab_map = {\\n\"\n",
    "    for s, i in vocab_map.items():\n",
    "        header_content += '    {\"' + escape_string(s) + '\", ' + str(i) + '},\\n'\n",
    "    header_content += \"};\\n\\n\"\n",
    "\n",
    "    return header_content\n",
    "\n",
    "header = generate_cpp_header(vocab.vocab_list)\n",
    "with open(\"../src/data/model/model_meta.hpp\", 'w') as f:\n",
    "    f.write(header)"
   ]
  },
  {
   "cell_type": "code",
   "execution_count": 1,
   "metadata": {},
   "outputs": [
    {
     "name": "stderr",
     "output_type": "stream",
     "text": [
      "2023-11-20 12:43:06.106396: I tensorflow/core/platform/cpu_feature_guard.cc:193] This TensorFlow binary is optimized with oneAPI Deep Neural Network Library (oneDNN) to use the following CPU instructions in performance-critical operations:  AVX2 FMA\n",
      "To enable them in other operations, rebuild TensorFlow with the appropriate compiler flags.\n",
      "2023-11-20 12:43:06.592304: W tensorflow/compiler/xla/stream_executor/platform/default/dso_loader.cc:64] Could not load dynamic library 'libnvinfer.so.7'; dlerror: libnvinfer.so.7: cannot open shared object file: No such file or directory\n",
      "2023-11-20 12:43:06.592376: W tensorflow/compiler/xla/stream_executor/platform/default/dso_loader.cc:64] Could not load dynamic library 'libnvinfer_plugin.so.7'; dlerror: libnvinfer_plugin.so.7: cannot open shared object file: No such file or directory\n",
      "2023-11-20 12:43:06.592382: W tensorflow/compiler/tf2tensorrt/utils/py_utils.cc:38] TF-TRT Warning: Cannot dlopen some TensorRT libraries. If you would like to use Nvidia GPU with TensorRT, please make sure the missing libraries mentioned above are installed properly.\n",
      "Global seed set to 9\n"
     ]
    }
   ],
   "source": [
    "import os\n",
    "import numpy as np\n",
    "import tqdm\n",
    "import torch\n",
    "import torch.onnx\n",
    "\n",
    "import tensorflow as tf\n",
    "\n",
    "import utils.convert_tools as ct\n",
    "import utils.vocab as vocab\n",
    "from model import tf_tglang, tglang\n",
    "\n",
    "import train as tglang_train\n",
    "\n",
    "def convert_TGLangAttention(torch_layer, tf_layer):\n",
    "    ct.convert_Linear(torch_layer.k_proj, tf_layer.k_proj)\n",
    "    ct.convert_Linear(torch_layer.v_proj, tf_layer.v_proj)\n",
    "    ct.convert_Linear(torch_layer.q_proj, tf_layer.q_proj)\n",
    "    ct.convert_Linear(torch_layer.out_proj, tf_layer.out_proj)\n",
    "\n",
    "def convert_TGLangFeedForward(torch_layer, tf_layer):\n",
    "    ct.convert_Linear(torch_layer.intermediate_dense, tf_layer.intermediate_dense)\n",
    "    ct.convert_Linear(torch_layer.output_dense, tf_layer.output_dense)\n",
    "\n",
    "def convert_TGLangEncoderLayer(torch_layer, tf_layer):\n",
    "    convert_TGLangAttention(torch_layer.attention, tf_layer.attention)\n",
    "    convert_TGLangFeedForward(torch_layer.feed_forward, tf_layer.feed_forward)\n",
    "    ct.convert_LayerNorm(torch_layer.final_layer_norm, tf_layer.final_layer_norm)\n",
    "\n",
    "def convert_TGLangTransformerEncoder(torch_layer, tf_layer):\n",
    "    for torch_enc_layer, tf_enc_layer in zip(torch_layer.layers, tf_layer.layers):\n",
    "        convert_TGLangEncoderLayer(torch_enc_layer, tf_enc_layer)\n",
    "\n",
    "def convert_TGLangConvBlock(torch_layer, tf_layer):\n",
    "    ct.convert_Conv1D(torch_layer.conv, tf_layer.conv)\n",
    "    if torch_layer.use_ln:\n",
    "        ct.convert_LayerNorm(torch_layer.ln, tf_layer.ln)\n",
    "    if torch_layer.use_bn:\n",
    "        ct.convert_BatchNorm(torch_layer.bn, tf_layer.bn)\n",
    "\n",
    "def convert_TGLangConvEncoder(torch_layer, tf_layer):\n",
    "    for i in range(len(torch_layer.encoder)):\n",
    "        convert_TGLangConvBlock(torch_layer.encoder[i], tf_layer.encoder.layers[i])\n",
    "    convert_TGLangConvBlock(torch_layer.word_conv, tf_layer.word_conv)\n",
    "    convert_TGLangConvBlock(torch_layer.structure_conv, tf_layer.structure_conv)\n",
    "    convert_TGLangConvBlock(torch_layer.conv_bottleneck, tf_layer.conv_bottleneck)\n",
    "    convert_TGLangConvBlock(torch_layer.final_conv, tf_layer.final_conv)\n",
    "\n",
    "def convert_TGLangWordEmbeddings(torch_layer, tf_layer):\n",
    "    ct.convert_Embedding(torch_layer.word_embeddings, tf_layer.word_embeddings)\n",
    "    ct.convert_Embedding(torch_layer.position_embeddings, tf_layer.position_embeddings)\n",
    "\n",
    "def convert_TGLangStructureEmbeddings(torch_layer, tf_layer):\n",
    "    ct.convert_Embedding(torch_layer.naming_type_embeddings, tf_layer.naming_type_embeddings)\n",
    "    ct.convert_Embedding(torch_layer.group_type_embeddings, tf_layer.group_type_embeddings)\n",
    "    ct.convert_Embedding(torch_layer.lines_num_embeddings, tf_layer.lines_num_embeddings)\n",
    "\n",
    "def convert_TGLangModel(torch_layer, tf_layer):\n",
    "    convert_TGLangWordEmbeddings(torch_layer.word_embeddings, tf_layer.word_embeddings)\n",
    "    convert_TGLangStructureEmbeddings(torch_layer.structure_embeddings, tf_layer.structure_embeddings)\n",
    "\n",
    "    convert_TGLangConvEncoder(torch_layer.conv_encoder, tf_layer.conv_encoder)\n",
    "    convert_TGLangTransformerEncoder(torch_layer.transformer_encoder, tf_layer.transformer_encoder)\n",
    "\n",
    "    ct.convert_Linear(torch_layer.code_classifier, tf_layer.code_classifier)\n",
    "    # ct.convert_Linear(torch_layer.other_classifier, tf_layer.other_classifier)\n",
    "\n",
    "def convert_to_tf(ckpt, save_tf_lite_path, check=True):\n",
    "    torch_model = tglang_train.LanguageClassifier.load_from_checkpoint(ckpt, map_location=torch.device(\"cpu\"), strict=False)\n",
    "    # torch_model = tglang_train.LanguageClassifier()\n",
    "    torch_model = torch_model.eval().model.float()\n",
    "\n",
    "    ## Create TF model\n",
    "    tf_model = tf_tglang.TF_TGLangModel(torch_model.config)\n",
    "    dummy_input_ids = tf.random.uniform((vocab.max_size,), 0, len(vocab.vocab_list), dtype=tf.int64)\n",
    "    dummy_naming_types = tf.random.uniform((vocab.max_size,), 0, 3, dtype=tf.int64)\n",
    "    dummy_group_types = tf.random.uniform((vocab.max_size,), 0, 5, dtype=tf.int64)\n",
    "    dummy_lines_num = tf.random.uniform((vocab.max_size,), 0, 256, dtype=tf.int64)\n",
    "    dummy_position_ids = tf.range(vocab.max_size, dtype=tf.int64)\n",
    "    _ = tf_model(dummy_input_ids, dummy_naming_types, dummy_group_types, dummy_lines_num, dummy_position_ids)\n",
    "\n",
    "    ## Load other weights\n",
    "    convert_TGLangModel(torch_model, tf_model)\n",
    "\n",
    "    print(\"Conversion done!\")\n",
    "\n",
    "    if check:\n",
    "        # TEST full\n",
    "        for i in tqdm.tqdm(range(1, vocab.max_size, 32), desc=\"Testing inference\"):\n",
    "            torch_inputs = torch.randint(0, len(vocab.vocab_list), (1, i)).long()\n",
    "            naming_types = torch.randint(0, 3, (1, i)).long()\n",
    "            group_types = torch.randint(0, 5, (1, i)).long()\n",
    "            lines_num = torch.randint(0, 256, (1, i)).long()\n",
    "            position_ids = torch.arange(i).reshape(1, i).long()\n",
    "\n",
    "            tf_inputs = tf.convert_to_tensor(torch_inputs.numpy(), dtype=tf.int64)[0]\n",
    "            tf_naming_types = tf.convert_to_tensor(naming_types.numpy(), dtype=tf.int64)[0]\n",
    "            tf_group_types = tf.convert_to_tensor(group_types.numpy(), dtype=tf.int64)[0]\n",
    "            tf_lines_num = tf.convert_to_tensor(lines_num.numpy(), dtype=tf.int64)[0]\n",
    "            tf_position_ids = tf.convert_to_tensor(position_ids.numpy(), dtype=tf.int64)[0]\n",
    "\n",
    "            logits, code_logits = torch_model(torch_inputs, naming_types, group_types, lines_num, position_ids)[:2]\n",
    "            logits, code_logits = logits[0], code_logits[0]\n",
    "            label = torch.argmax(logits, dim=-1)\n",
    "            conf = torch.softmax(logits, dim=-1)[label].detach().numpy()\n",
    "            is_code = torch.argmax(code_logits, dim=-1).detach().numpy()\n",
    "            code_probs = torch.softmax(code_logits, dim=-1)[1].detach().numpy()\n",
    "            label = label.detach().numpy()\n",
    "\n",
    "            tf_label, tf_conf = tf_model(tf_inputs, tf_naming_types, tf_group_types, tf_lines_num, tf_position_ids)\n",
    "            np.testing.assert_allclose(conf, tf_conf.numpy(), atol=0.01)\n",
    "            # np.testing.assert_allclose(code_probs, tf_is_code_conf.numpy(), atol=0.01)\n",
    "            np.testing.assert_equal(label, tf_label.numpy())\n",
    "            # np.testing.assert_equal(is_code, tf_is_code.numpy())\n",
    "\n",
    "    # TO TFLite\n",
    "    converter = tf.lite.TFLiteConverter.from_keras_model(tf_model)\n",
    "    converter.optimizations = [tf.lite.Optimize.DEFAULT]\n",
    "    converter.target_spec.supported_ops = [tf.lite.OpsSet.TFLITE_BUILTINS, tf.lite.OpsSet.SELECT_TF_OPS]\n",
    "    converter.target_spec.supported_types = [tf.float16]\n",
    "    converter.experimental_new_converter = True\n",
    "    tflite_model = converter.convert()\n",
    "\n",
    "    with open(save_tf_lite_path, \"wb\") as f:\n",
    "        f.write(tflite_model)\n",
    "\n",
    "    print(\"Converting finished. Saved to: \", os.path.abspath(save_tf_lite_path))\n",
    "    print(f\"Resulted size: {os.stat(save_tf_lite_path).st_size / (1024 ** 2):.2f}MB\")\n",
    "    return tf_model\n",
    "\n",
    "\n",
    "def convert_to_onnx(ckpt, save_onnx_path):\n",
    "    torch_model = tglang_train.LanguageClassifier.load_from_checkpoint(\n",
    "        ckpt, map_location=torch.device(\"cpu\"), strict=False)\n",
    "    torch_model = torch_model.eval().model\n",
    "\n",
    "    export_model = tglang.TGLangInferenceModel(torch_model).cuda().half()\n",
    "\n",
    "    input_ids = torch.randint(0, 100, (vocab.max_size,), dtype=torch.long).cuda()\n",
    "    naming_types = torch.randint(0, 3, (vocab.max_size,), dtype=torch.long).cuda()\n",
    "    positions = torch.randint(0, 100, (vocab.max_size,), dtype=torch.long).cuda()\n",
    "\n",
    "    label, label_conf, is_code, is_code_conf = export_model(input_ids, naming_types, positions)\n",
    "\n",
    "    dynamic_axes = {\n",
    "        'input_ids' : {0 : 'sequence'},\n",
    "        'naming_types' : {0 : 'sequence'},\n",
    "        'positions' : {0 : 'sequence'}\n",
    "    }\n",
    "\n",
    "    torch.onnx.export(export_model,\n",
    "                    (input_ids, naming_types, positions),\n",
    "                    save_onnx_path,\n",
    "                    input_names=['input_ids', 'naming_types', 'positions'],\n",
    "                    output_names=['label', 'label_conf', 'is_code', 'is_code_conf'],\n",
    "                    dynamic_axes=dynamic_axes)\n",
    "    print(\"Converting finished. Saved to: \", os.path.abspath(save_onnx_path))\n",
    "    print(f\"Resulted size: {os.stat(save_onnx_path).st_size / (1024 ** 2):.2f}MB\")\n"
   ]
  },
  {
   "cell_type": "code",
   "execution_count": 2,
   "metadata": {},
   "outputs": [
    {
     "name": "stderr",
     "output_type": "stream",
     "text": [
      "/home/smr/anaconda3/envs/optiver/lib/python3.10/site-packages/pytorch_lightning/core/saving.py:165: UserWarning: Found keys that are not in the model state dict but in the checkpoint: ['ce_loss.weight']\n",
      "  rank_zero_warn(\n",
      "2023-11-20 12:43:08.522388: I tensorflow/compiler/xla/stream_executor/cuda/cuda_gpu_executor.cc:981] successful NUMA node read from SysFS had negative value (-1), but there must be at least one NUMA node, so returning NUMA node zero\n",
      "2023-11-20 12:43:08.522610: I tensorflow/compiler/xla/stream_executor/cuda/cuda_gpu_executor.cc:981] successful NUMA node read from SysFS had negative value (-1), but there must be at least one NUMA node, so returning NUMA node zero\n",
      "2023-11-20 12:43:08.522932: W tensorflow/compiler/xla/stream_executor/platform/default/dso_loader.cc:64] Could not load dynamic library 'libcufft.so.10'; dlerror: libcufft.so.10: cannot open shared object file: No such file or directory\n",
      "2023-11-20 12:43:08.523007: W tensorflow/compiler/xla/stream_executor/platform/default/dso_loader.cc:64] Could not load dynamic library 'libcurand.so.10'; dlerror: libcurand.so.10: cannot open shared object file: No such file or directory\n",
      "2023-11-20 12:43:08.523068: W tensorflow/compiler/xla/stream_executor/platform/default/dso_loader.cc:64] Could not load dynamic library 'libcusolver.so.11'; dlerror: libcusolver.so.11: cannot open shared object file: No such file or directory\n",
      "2023-11-20 12:43:08.523126: W tensorflow/compiler/xla/stream_executor/platform/default/dso_loader.cc:64] Could not load dynamic library 'libcusparse.so.11'; dlerror: libcusparse.so.11: cannot open shared object file: No such file or directory\n",
      "2023-11-20 12:43:08.523207: W tensorflow/core/common_runtime/gpu/gpu_device.cc:1934] Cannot dlopen some GPU libraries. Please make sure the missing libraries mentioned above are installed properly if you would like to use GPU. Follow the guide at https://www.tensorflow.org/install/gpu for how to download and setup the required libraries for your platform.\n",
      "Skipping registering GPU devices...\n",
      "2023-11-20 12:43:08.523375: I tensorflow/core/platform/cpu_feature_guard.cc:193] This TensorFlow binary is optimized with oneAPI Deep Neural Network Library (oneDNN) to use the following CPU instructions in performance-critical operations:  AVX2 FMA\n",
      "To enable them in other operations, rebuild TensorFlow with the appropriate compiler flags.\n"
     ]
    },
    {
     "name": "stdout",
     "output_type": "stream",
     "text": [
      "Conversion done!\n"
     ]
    },
    {
     "name": "stderr",
     "output_type": "stream",
     "text": [
      "Testing inference: 100%|██████████| 128/128 [00:01<00:00, 116.16it/s]\n",
      "WARNING:absl:Found untraced functions such as tf_tg_lang_conv_block_layer_call_fn, tf_tg_lang_conv_block_layer_call_and_return_conditional_losses, tf_tg_lang_conv_block_1_layer_call_fn, tf_tg_lang_conv_block_1_layer_call_and_return_conditional_losses, tf_tg_lang_conv_block_5_layer_call_fn while saving (showing 5 of 83). These functions will not be directly callable after loading.\n"
     ]
    },
    {
     "name": "stdout",
     "output_type": "stream",
     "text": [
      "INFO:tensorflow:Assets written to: /tmp/tmpvmj03p49/assets\n"
     ]
    },
    {
     "name": "stderr",
     "output_type": "stream",
     "text": [
      "INFO:tensorflow:Assets written to: /tmp/tmpvmj03p49/assets\n",
      "2023-11-20 12:43:15.053809: W tensorflow/compiler/mlir/lite/python/tf_tfl_flatbuffer_helpers.cc:362] Ignored output_format.\n",
      "2023-11-20 12:43:15.053838: W tensorflow/compiler/mlir/lite/python/tf_tfl_flatbuffer_helpers.cc:365] Ignored drop_control_dependency.\n",
      "2023-11-20 12:43:15.054271: I tensorflow/cc/saved_model/reader.cc:45] Reading SavedModel from: /tmp/tmpvmj03p49\n",
      "2023-11-20 12:43:15.059156: I tensorflow/cc/saved_model/reader.cc:89] Reading meta graph with tags { serve }\n",
      "2023-11-20 12:43:15.059172: I tensorflow/cc/saved_model/reader.cc:130] Reading SavedModel debug info (if present) from: /tmp/tmpvmj03p49\n",
      "2023-11-20 12:43:15.074575: I tensorflow/compiler/mlir/mlir_graph_optimization_pass.cc:357] MLIR V1 optimization pass is not enabled\n",
      "2023-11-20 12:43:15.078134: I tensorflow/cc/saved_model/loader.cc:229] Restoring SavedModel bundle.\n",
      "2023-11-20 12:43:15.150369: I tensorflow/cc/saved_model/loader.cc:213] Running initialization op on SavedModel bundle at path: /tmp/tmpvmj03p49\n",
      "2023-11-20 12:43:15.179387: I tensorflow/cc/saved_model/loader.cc:305] SavedModel load for tags { serve }; Status: success: OK. Took 125124 microseconds.\n",
      "2023-11-20 12:43:15.266120: I tensorflow/compiler/mlir/tensorflow/utils/dump_mlir_util.cc:268] disabling MLIR crash reproducer, set env var `MLIR_CRASH_REPRODUCER_DIRECTORY` to enable.\n"
     ]
    },
    {
     "name": "stdout",
     "output_type": "stream",
     "text": [
      "Converting finished. Saved to:  /home/smr/workspace/comp/tg/playground/train/logs/l_2023-11-20_07-48-39_bs=1024_epochs=130/epoch=82-step=176319.tflite\n",
      "Resulted size: 1.23MB\n"
     ]
    }
   ],
   "source": [
    "CKPT = \"./logs/l_2023-11-20_07-48-39_bs=1024_epochs=130/epoch=82-step=176319.ckpt\"\n",
    "save_tf_lite_path = os.path.join(os.path.dirname(CKPT), os.path.basename(CKPT).split(\".\")[0] + \".tflite\")\n",
    "save_onnx_path = os.path.join(os.path.dirname(CKPT), os.path.basename(CKPT).split(\".\")[0] + \".onnx\")\n",
    "\n",
    "tfmodel = convert_to_tf(CKPT, save_tf_lite_path, check=True)\n",
    "\n",
    "!cp $save_tf_lite_path ./tf_model.tflite\n",
    "!xxd -i tf_model.tflite > ../src/data/model/tf_model.hpp\n",
    "!rm ./tf_model.tflite\n",
    "\n",
    "# convert_to_onnx(CKPT, save_onnx_path)\n",
    "# !cp $save_onnx_path ./onnx_model.onnx\n",
    "# !python -m onnxruntime.tools.convert_onnx_models_to_ort onnx_model.onnx --save_optimized_onnx_model --target_platform amd64 --optimization_style Fixed\n",
    "# !xxd -i onnx_model.ort > ../src/data/model/ort_model.hpp\n",
    "# !rm ./onnx_model.ort\n",
    "# !rm ./onnx_model.onnx"
   ]
  },
  {
   "cell_type": "code",
   "execution_count": 1,
   "metadata": {},
   "outputs": [
    {
     "name": "stdout",
     "output_type": "stream",
     "text": [
      "{'serving_default': {'inputs': ['group_types', 'input_ids', 'line_ids', 'naming_types', 'position_ids'], 'outputs': ['output_1', 'output_2']}}\n"
     ]
    }
   ],
   "source": [
    "import numpy as np\n",
    "import tflite_runtime.interpreter as tflite\n",
    "\n",
    "from utils import vocab, preprocess\n",
    "\n",
    "def load_file(filepath):\n",
    "    with open(filepath, \"r\") as f:\n",
    "        return f.read()\n",
    "\n",
    "save_tf_lite_path = \"./logs/l_2023-11-20_07-48-39_bs=1024_epochs=130/epoch=82-step=176319.tflite\"\n",
    "interpreter = tflite.Interpreter(model_path=save_tf_lite_path)\n",
    "print(interpreter.get_signature_list())\n",
    "\n",
    "# input_ids = np.random.randint(0, len(vocab.vocab_list), (vocab.max_size,))\n",
    "# naming_types = np.random.randint(0, 3, (vocab.max_size,))\n",
    "# position_ids = np.arange(vocab.max_size)\n",
    "input_ids = np.random.randint(0, len(vocab.vocab_list), (10,))\n",
    "naming_types = np.random.randint(0, 3, (10,))\n",
    "group_types = np.random.randint(0, 4, (10,))\n",
    "line_ids = np.random.randint(0, 255, (10,))\n",
    "position_ids = np.arange(10)\n",
    "\n",
    "input_ids, naming_types, group_types, line_ids, position_ids = preprocess.encode_text(load_file(\"/home/smr/workspace/comp/tg/datasets/CPP_TEST/PYTHON/0/test9.txt\"))\n",
    "input_ids = np.array(input_ids)\n",
    "naming_types = np.array(naming_types)\n",
    "group_types = np.array(group_types)\n",
    "line_ids = np.array(line_ids)\n",
    "position_ids = np.array(position_ids)\n",
    "\n",
    "prediction_fn = interpreter.get_signature_runner(\"serving_default\")\n",
    "tf_output = prediction_fn(input_ids=input_ids, naming_types=naming_types, group_types=group_types, line_ids=line_ids, position_ids=position_ids)"
   ]
  },
  {
   "cell_type": "code",
   "execution_count": 2,
   "metadata": {},
   "outputs": [
    {
     "data": {
      "text/plain": [
       "{'output_1': 19, 'output_2': 0.9998692}"
      ]
     },
     "execution_count": 2,
     "metadata": {},
     "output_type": "execute_result"
    }
   ],
   "source": [
    "tf_output"
   ]
  },
  {
   "cell_type": "code",
   "execution_count": 3,
   "metadata": {},
   "outputs": [
    {
     "data": {
      "text/plain": [
       "[{'name': 'serving_default_naming_types:0',\n",
       "  'index': 0,\n",
       "  'shape': array([703], dtype=int32),\n",
       "  'shape_signature': array([-1], dtype=int32),\n",
       "  'dtype': numpy.int64,\n",
       "  'quantization': (0.0, 0),\n",
       "  'quantization_parameters': {'scales': array([], dtype=float32),\n",
       "   'zero_points': array([], dtype=int32),\n",
       "   'quantized_dimension': 0},\n",
       "  'sparsity_parameters': {}},\n",
       " {'name': 'serving_default_group_types:0',\n",
       "  'index': 1,\n",
       "  'shape': array([703], dtype=int32),\n",
       "  'shape_signature': array([-1], dtype=int32),\n",
       "  'dtype': numpy.int64,\n",
       "  'quantization': (0.0, 0),\n",
       "  'quantization_parameters': {'scales': array([], dtype=float32),\n",
       "   'zero_points': array([], dtype=int32),\n",
       "   'quantized_dimension': 0},\n",
       "  'sparsity_parameters': {}},\n",
       " {'name': 'serving_default_position_ids:0',\n",
       "  'index': 2,\n",
       "  'shape': array([703], dtype=int32),\n",
       "  'shape_signature': array([-1], dtype=int32),\n",
       "  'dtype': numpy.int64,\n",
       "  'quantization': (0.0, 0),\n",
       "  'quantization_parameters': {'scales': array([], dtype=float32),\n",
       "   'zero_points': array([], dtype=int32),\n",
       "   'quantized_dimension': 0},\n",
       "  'sparsity_parameters': {}},\n",
       " {'name': 'serving_default_line_ids:0',\n",
       "  'index': 3,\n",
       "  'shape': array([703], dtype=int32),\n",
       "  'shape_signature': array([-1], dtype=int32),\n",
       "  'dtype': numpy.int64,\n",
       "  'quantization': (0.0, 0),\n",
       "  'quantization_parameters': {'scales': array([], dtype=float32),\n",
       "   'zero_points': array([], dtype=int32),\n",
       "   'quantized_dimension': 0},\n",
       "  'sparsity_parameters': {}},\n",
       " {'name': 'serving_default_input_ids:0',\n",
       "  'index': 4,\n",
       "  'shape': array([703], dtype=int32),\n",
       "  'shape_signature': array([-1], dtype=int32),\n",
       "  'dtype': numpy.int64,\n",
       "  'quantization': (0.0, 0),\n",
       "  'quantization_parameters': {'scales': array([], dtype=float32),\n",
       "   'zero_points': array([], dtype=int32),\n",
       "   'quantized_dimension': 0},\n",
       "  'sparsity_parameters': {}}]"
      ]
     },
     "execution_count": 3,
     "metadata": {},
     "output_type": "execute_result"
    }
   ],
   "source": [
    "interpreter.get_input_details()"
   ]
  },
  {
   "cell_type": "code",
   "execution_count": 4,
   "metadata": {},
   "outputs": [
    {
     "data": {
      "text/plain": [
       "[{'name': 'StatefulPartitionedCall:0',\n",
       "  'index': 343,\n",
       "  'shape': array([], dtype=int32),\n",
       "  'shape_signature': array([], dtype=int32),\n",
       "  'dtype': numpy.int64,\n",
       "  'quantization': (0.0, 0),\n",
       "  'quantization_parameters': {'scales': array([], dtype=float32),\n",
       "   'zero_points': array([], dtype=int32),\n",
       "   'quantized_dimension': 0},\n",
       "  'sparsity_parameters': {}},\n",
       " {'name': 'StatefulPartitionedCall:1',\n",
       "  'index': 351,\n",
       "  'shape': array([], dtype=int32),\n",
       "  'shape_signature': array([], dtype=int32),\n",
       "  'dtype': numpy.float32,\n",
       "  'quantization': (0.0, 0),\n",
       "  'quantization_parameters': {'scales': array([], dtype=float32),\n",
       "   'zero_points': array([], dtype=int32),\n",
       "   'quantized_dimension': 0},\n",
       "  'sparsity_parameters': {}}]"
      ]
     },
     "execution_count": 4,
     "metadata": {},
     "output_type": "execute_result"
    }
   ],
   "source": [
    "interpreter.get_output_details()"
   ]
  },
  {
   "cell_type": "code",
   "execution_count": null,
   "metadata": {},
   "outputs": [],
   "source": []
  },
  {
   "cell_type": "code",
   "execution_count": null,
   "metadata": {},
   "outputs": [],
   "source": []
  },
  {
   "cell_type": "code",
   "execution_count": null,
   "metadata": {},
   "outputs": [],
   "source": []
  },
  {
   "cell_type": "code",
   "execution_count": null,
   "metadata": {},
   "outputs": [],
   "source": []
  },
  {
   "cell_type": "code",
   "execution_count": null,
   "metadata": {},
   "outputs": [],
   "source": []
  },
  {
   "cell_type": "code",
   "execution_count": null,
   "metadata": {},
   "outputs": [],
   "source": []
  },
  {
   "cell_type": "code",
   "execution_count": null,
   "metadata": {},
   "outputs": [],
   "source": []
  },
  {
   "cell_type": "code",
   "execution_count": null,
   "metadata": {},
   "outputs": [],
   "source": []
  },
  {
   "cell_type": "markdown",
   "metadata": {},
   "source": [
    "# Extract RUN section from dockerfiles to create Shell dataset."
   ]
  },
  {
   "cell_type": "code",
   "execution_count": 84,
   "metadata": {},
   "outputs": [],
   "source": [
    "import random\n",
    "import os\n",
    "\n",
    "def extract_run_commands(dockerfile_paths):\n",
    "    commands = []\n",
    "\n",
    "    for path in dockerfile_paths:\n",
    "        if os.path.exists(path):\n",
    "            try:\n",
    "                with open(path, 'r') as f:\n",
    "                    lines = f.readlines()\n",
    "            except:\n",
    "                continue\n",
    "\n",
    "            current_command = ''\n",
    "            is_run_command = False\n",
    "            for line in lines:\n",
    "                line = line.strip()\n",
    "                if line.startswith('RUN'):\n",
    "                    is_run_command = True\n",
    "                    current_command = line[3:].strip()\n",
    "                elif is_run_command and line.endswith('\\\\'):\n",
    "                    current_command += ' ' + line[:-1].strip()\n",
    "                elif is_run_command:\n",
    "                    current_command += ' ' + line\n",
    "                    commands.append(current_command)\n",
    "                    current_command = ''\n",
    "                    is_run_command = False\n",
    "\n",
    "    return [c.replace(\"\\\\\", \"\" if random.random() < 0.5 else \"\\ \\n\") for c in commands]\n",
    "\n",
    "def load_all_files(root_dir):\n",
    "    dockerfile_paths = []\n",
    "    for root, dirs, files in os.walk(root_dir):\n",
    "        for file in files:\n",
    "            dockerfile_paths.append(os.path.join(root, file))\n",
    "    return dockerfile_paths\n",
    "\n",
    "dockerfile_paths = load_all_files(\"../datasets/github/langs/Dockerfile/\")\n",
    "bash_commands = extract_run_commands(dockerfile_paths)\n",
    "bash_commands = random.choices(bash_commands, k=50000)\n",
    "\n",
    "#save to shell folder\n",
    "save_dir = \"../datasets/github/langs/Shell/from_dockerfile\"\n",
    "os.makedirs(save_dir, exist_ok=True)\n",
    "for i, c in enumerate(bash_commands):\n",
    "    with open(os.path.join(save_dir, f\"{i}.txt\"), \"w\") as f:\n",
    "        f.write(c)"
   ]
  }
 ],
 "metadata": {
  "kernelspec": {
   "display_name": "optiver",
   "language": "python",
   "name": "python3"
  },
  "language_info": {
   "codemirror_mode": {
    "name": "ipython",
    "version": 3
   },
   "file_extension": ".py",
   "mimetype": "text/x-python",
   "name": "python",
   "nbconvert_exporter": "python",
   "pygments_lexer": "ipython3",
   "version": "3.10.13"
  },
  "orig_nbformat": 4
 },
 "nbformat": 4,
 "nbformat_minor": 2
}
